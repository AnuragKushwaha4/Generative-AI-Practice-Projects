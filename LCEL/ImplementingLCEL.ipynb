{
 "cells": [
  {
   "cell_type": "markdown",
   "id": "f2cf67eb",
   "metadata": {},
   "source": [
    "### LCEL (Langchain expression Language):\n",
    "Practice to create LCELs and Runnables"
   ]
  },
  {
   "cell_type": "code",
   "execution_count": 3,
   "id": "87fe2154",
   "metadata": {},
   "outputs": [],
   "source": [
    "import os\n",
    "from dotenv import load_dotenv\n",
    "load_dotenv()\n",
    "os.environ[\"GROQ_API_KEY\"]=os.getenv(\"GROQ_API_KEY\")"
   ]
  },
  {
   "cell_type": "code",
   "execution_count": 6,
   "id": "849d87c7",
   "metadata": {},
   "outputs": [],
   "source": [
    "from langchain_groq import ChatGroq\n",
    "from langchain_core.prompts import ChatPromptTemplate\n",
    "from langchain_core.output_parsers import StrOutputParser\n",
    "from langchain_core.messages import SystemMessage,HumanMessage\n"
   ]
  },
  {
   "cell_type": "code",
   "execution_count": 13,
   "id": "e018b6b8",
   "metadata": {},
   "outputs": [],
   "source": [
    "llm = ChatGroq(model=\"llama-3.3-70b-versatile\")\n",
    "outputparser =StrOutputParser()"
   ]
  },
  {
   "cell_type": "code",
   "execution_count": 14,
   "id": "e5046b45",
   "metadata": {},
   "outputs": [],
   "source": [
    "#Creating Static prompt:\n",
    "messages = [\n",
    "    SystemMessage(content=\"You are Smart AI assistant designed to response politely and in details on users query:\"),\n",
    "    HumanMessage(content=\"Steps to implement RAG\")\n",
    "]"
   ]
  },
  {
   "cell_type": "code",
   "execution_count": 16,
   "id": "b599fa66",
   "metadata": {},
   "outputs": [],
   "source": [
    "result=llm.invoke(messages)"
   ]
  },
  {
   "cell_type": "code",
   "execution_count": 17,
   "id": "ffd5e158",
   "metadata": {},
   "outputs": [
    {
     "data": {
      "text/plain": [
       "'RAG (Retrieve, Augment, Generate) is a powerful framework for natural language processing (NLP) and text generation tasks. Implementing RAG involves several steps, which I\\'ll outline below:\\n\\n**Step 1: Define the Task and Objective**\\n Identify the specific NLP task you want to accomplish using RAG, such as text summarization, question answering, or text generation. Clearly define the objective, including the input and output formats, and the desired performance metrics.\\n\\n**Step 2: Choose a Retrieval Method**\\n Select a suitable retrieval method to fetch relevant information from a knowledge base or a large corpus of text. Common retrieval methods include:\\n\\t* Term Frequency-Inverse Document Frequency (TF-IDF)\\n\\t* BM25 (Best Match 25)\\n\\t* Dense Passage Retriever (DPR)\\n\\t* Neural retrievers like BERT-based retrievers\\n\\n**Step 3: Prepare the Knowledge Base**\\n Create or curate a knowledge base that contains relevant information for the task. This can be a large corpus of text, a database, or a knowledge graph. Preprocess the knowledge base by:\\n\\t* Tokenizing the text\\n\\t* Removing stop words and punctuation\\n\\t* Lemmatizing words (optional)\\n\\t* Indexing the text for efficient retrieval\\n\\n**Step 4: Implement the Augment Module**\\n Design and implement an augment module that takes the retrieved information and generates additional context or information to support the task. This can include:\\n\\t* Entity recognition and disambiguation\\n\\t* Coreference resolution\\n\\t* Sentiment analysis or emotion detection\\n\\t* Generating additional text or summaries\\n\\n**Step 5: Implement the Generate Module**\\n Develop a generate module that takes the output from the augment module and generates the final text or response. This can include:\\n\\t* Text generation using a language model (e.g., transformer-based models)\\n\\t* Summarization or text condensation\\n\\t* Question answering or response generation\\n\\n**Step 6: Train and Fine-Tune the Model**\\n Train the RAG model using a suitable dataset and fine-tune it for the specific task. You can use pre-trained language models like BERT, RoBERTa, or XLNet as a starting point and fine-tune them on your dataset.\\n\\n**Step 7: Evaluate and Refine the Model**\\n Evaluate the performance of the RAG model using metrics like accuracy, F1-score, ROUGE score, or BLEU score, depending on the task. Refine the model by:\\n\\t* Adjusting hyperparameters\\n\\t* Experimenting with different retrieval methods or augment modules\\n\\t* Incorporating additional training data or knowledge sources\\n\\n**Step 8: Deploy and Monitor the Model**\\n Deploy the trained RAG model in a production-ready environment and monitor its performance on real-world data. Continuously collect feedback and update the model to maintain its performance and adapt to changing user needs.\\n\\nHere\\'s a high-level example of how you might implement RAG in Python using popular libraries like Hugging Face Transformers and PyTorch:\\n```python\\nimport torch\\nfrom transformers import AutoModelForSeq2SeqLM, AutoTokenizer\\nfrom torch.utils.data import Dataset, DataLoader\\n\\n# Define the dataset and data loader\\nclass RAGDataset(Dataset):\\n    def __init__(self, data, tokenizer):\\n        self.data = data\\n        self.tokenizer = tokenizer\\n\\n    def __getitem__(self, idx):\\n        input_text = self.data[idx][\"input_text\"]\\n        output_text = self.data[idx][\"output_text\"]\\n\\n        inputs = self.tokenizer(input_text, return_tensors=\"pt\")\\n        labels = self.tokenizer(output_text, return_tensors=\"pt\")\\n\\n        return inputs, labels\\n\\n# Load pre-trained language model and tokenizer\\nmodel = AutoModelForSeq2SeqLM.from_pretrained(\"t5-base\")\\ntokenizer = AutoTokenizer.from_pretrained(\"t5-base\")\\n\\n# Define the RAG model\\nclass RAGModel(torch.nn.Module):\\n    def __init__(self, model, tokenizer):\\n        super(RAGModel, self).__init__()\\n        self.model = model\\n        self.tokenizer = tokenizer\\n\\n    def forward(self, input_text):\\n        # Retrieve relevant information from the knowledge base\\n        retrieved_info = retrieve_info(input_text)\\n\\n        # Augment the retrieved information\\n        augmented_info = augment_info(retrieved_info)\\n\\n        # Generate the final text or response\\n        generated_text = self.model.generate(augmented_info)\\n\\n        return generated_text\\n\\n# Train and evaluate the RAG model\\ndevice = torch.device(\"cuda\" if torch.cuda.is_available() else \"cpu\")\\nmodel.to(device)\\n\\ncriterion = torch.nn.CrossEntropyLoss()\\noptimizer = torch.optim.Adam(model.parameters(), lr=1e-5)\\n\\nfor epoch in range(5):\\n    model.train()\\n    for batch in train_dataloader:\\n        input_text, labels = batch\\n        input_text, labels = input_text.to(device), labels.to(device)\\n\\n        optimizer.zero_grad()\\n\\n        outputs = model(input_text)\\n        loss = criterion(outputs, labels)\\n\\n        loss.backward()\\n        optimizer.step()\\n\\n    model.eval()\\n    with torch.no_grad():\\n        total_loss = 0\\n        for batch in val_dataloader:\\n            input_text, labels = batch\\n            input_text, labels = input_text.to(device), labels.to(device)\\n\\n            outputs = model(input_text)\\n            loss = criterion(outputs, labels)\\n            total_loss += loss.item()\\n\\n        print(f\"Epoch {epoch+1}, Val Loss: {total_loss / len(val_dataloader)}\")\\n```\\nNote that this is a simplified example and you may need to modify it to suit your specific use case and requirements. Additionally, implementing RAG can be complex and requires significant expertise in NLP and deep learning.'"
      ]
     },
     "execution_count": 17,
     "metadata": {},
     "output_type": "execute_result"
    }
   ],
   "source": [
    "outputparser.invoke(result)"
   ]
  },
  {
   "cell_type": "markdown",
   "id": "a82cb108",
   "metadata": {},
   "source": [
    " As the above given code is not good for production ready because we have to update human message manually so we use LCEL for that Rather using simple message prompts we use prompt template that provide context to models as it is Runnable(Object of Langchain that can chain together so that it implement in chain ) we can create chain of it\n"
   ]
  },
  {
   "cell_type": "code",
   "execution_count": 18,
   "id": "c143719f",
   "metadata": {},
   "outputs": [],
   "source": [
    "from langchain_core.prompts import ChatPromptTemplate"
   ]
  },
  {
   "cell_type": "code",
   "execution_count": 23,
   "id": "19a90304",
   "metadata": {},
   "outputs": [],
   "source": [
    "prompts = ChatPromptTemplate.from_messages(\n",
    "    [\n",
    "        (\"system\",\"You are Smart AI assistant designed to response politely and in details on users query:\"),\n",
    "        (\"user\",\"{input}\")\n",
    "    ]\n",
    "    \n",
    ")"
   ]
  },
  {
   "cell_type": "code",
   "execution_count": 24,
   "id": "20cfe1e9",
   "metadata": {},
   "outputs": [],
   "source": [
    "chain = prompts|llm|outputparser"
   ]
  },
  {
   "cell_type": "code",
   "execution_count": 35,
   "id": "1a25a05e",
   "metadata": {},
   "outputs": [
    {
     "data": {
      "text/plain": [
       "str"
      ]
     },
     "execution_count": 35,
     "metadata": {},
     "output_type": "execute_result"
    }
   ],
   "source": [
    "res = chain.invoke({\"input\":\"What is newtons law of motions explain all \"})\n",
    "type(res)"
   ]
  },
  {
   "cell_type": "code",
   "execution_count": 36,
   "id": "76db4eb1",
   "metadata": {},
   "outputs": [
    {
     "name": "stdout",
     "output_type": "stream",
     "text": [
      "Sir Isaac Newton's laws of motion are a fundamental concept in physics that describe the relationship between a body and the forces acting upon it. There are three laws of motion, which were first presented by Newton in his work \"Philosophiæ Naturalis Principia Mathematica\" in 1687. These laws are still widely used today to understand and predict the motion of objects in the natural world.\n",
      "\n",
      "**Newton's First Law of Motion (Law of Inertia)**\n",
      "\n",
      "Newton's first law, also known as the law of inertia, states that:\n",
      "\n",
      "\"An object at rest will remain at rest, and an object in motion will continue to move with a constant velocity, unless acted upon by an external force.\"\n",
      "\n",
      "In other words, an object will maintain its state of motion unless a force is applied to it. This means that if an object is at rest, it will remain at rest, and if it's moving, it will continue to move with the same speed and direction, unless a force is applied to change its motion.\n",
      "\n",
      "For example:\n",
      "\n",
      "* A bowling ball will continue to roll down the lane with a constant speed and direction, unless it's acted upon by an external force, such as friction from the lane or a collision with a pin.\n",
      "* A car will continue to move at a constant speed, unless the brakes are applied or the gas pedal is pressed, which would change its motion.\n",
      "\n",
      "**Newton's Second Law of Motion (Law of Acceleration)**\n",
      "\n",
      "Newton's second law, also known as the law of acceleration, states that:\n",
      "\n",
      "\"The acceleration of an object is directly proportional to the net force acting upon it and inversely proportional to its mass.\"\n",
      "\n",
      "Mathematically, this is expressed as:\n",
      "\n",
      "F = ma\n",
      "\n",
      "Where:\n",
      "\n",
      "* F is the net force acting on the object (in Newtons, N)\n",
      "* m is the mass of the object (in kilograms, kg)\n",
      "* a is the acceleration of the object (in meters per second squared, m/s²)\n",
      "\n",
      "This law means that the more massive an object is, the more force is required to produce a given acceleration. Conversely, the less massive an object is, the less force is required to produce a given acceleration.\n",
      "\n",
      "For example:\n",
      "\n",
      "* A car with a large mass (e.g., a truck) will require a greater force to accelerate to a certain speed than a car with a smaller mass (e.g., a sports car).\n",
      "* A tennis ball will accelerate more quickly than a bowling ball when hit with the same force, because the tennis ball has a smaller mass.\n",
      "\n",
      "**Newton's Third Law of Motion (Law of Action and Reaction)**\n",
      "\n",
      "Newton's third law, also known as the law of action and reaction, states that:\n",
      "\n",
      "\"For every action, there is an equal and opposite reaction.\"\n",
      "\n",
      "This means that when an object exerts a force on another object, the second object will exert an equal and opposite force on the first object. This law applies to all interactions between objects, whether they're in contact or not.\n",
      "\n",
      "For example:\n",
      "\n",
      "* When you push on a wall, the wall exerts an equal and opposite force on you, which is why you don't move through the wall.\n",
      "* When a car accelerates forward, the ground exerts an equal and opposite force on the car, which is why the car doesn't move backward.\n",
      "* When a rocket launches into space, the hot gases expelled from the back of the rocket exert an equal and opposite force on the rocket, which propels it forward.\n",
      "\n",
      "In summary, Newton's laws of motion provide a fundamental understanding of how objects move and respond to forces in the natural world. They have been widely used to predict and understand the motion of objects, from the trajectory of projectiles to the orbits of planets.\n",
      "\n",
      "Here are some key takeaways from Newton's laws of motion:\n",
      "\n",
      "* An object will maintain its state of motion unless a force is applied to it (first law).\n",
      "* The acceleration of an object is directly proportional to the net force acting upon it and inversely proportional to its mass (second law).\n",
      "* For every action, there is an equal and opposite reaction (third law).\n",
      "\n",
      "These laws have had a profound impact on our understanding of the natural world and have been used to make numerous predictions and discoveries in physics, engineering, and other fields.\n"
     ]
    }
   ],
   "source": [
    "res=res.splitlines()\n",
    "for statement in res:\n",
    "    print(statement)"
   ]
  },
  {
   "cell_type": "code",
   "execution_count": null,
   "id": "c4e3a370",
   "metadata": {},
   "outputs": [],
   "source": []
  }
 ],
 "metadata": {
  "kernelspec": {
   "display_name": "Python 3",
   "language": "python",
   "name": "python3"
  },
  "language_info": {
   "codemirror_mode": {
    "name": "ipython",
    "version": 3
   },
   "file_extension": ".py",
   "mimetype": "text/x-python",
   "name": "python",
   "nbconvert_exporter": "python",
   "pygments_lexer": "ipython3",
   "version": "3.10.15"
  }
 },
 "nbformat": 4,
 "nbformat_minor": 5
}
