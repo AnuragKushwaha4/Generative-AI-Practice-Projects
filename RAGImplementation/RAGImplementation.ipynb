{
 "cells": [
  {
   "cell_type": "markdown",
   "id": "cd3cec09",
   "metadata": {},
   "source": [
    "### Implementing RAG"
   ]
  },
  {
   "cell_type": "code",
   "execution_count": 1,
   "id": "9f9a5510",
   "metadata": {},
   "outputs": [],
   "source": [
    "import os\n",
    "from dotenv import load_dotenv\n",
    "load_dotenv()\n",
    "os.environ[\"HF_API_KEY\"]=os.getenv(\"HF_API_KEY\")\n",
    "os.environ[\"GROQ_API_KEY\"]=os.getenv(\"GROQ_API_KEY\")"
   ]
  },
  {
   "cell_type": "code",
   "execution_count": 2,
   "id": "2c4ba778",
   "metadata": {},
   "outputs": [],
   "source": [
    "from langchain.document_loaders import PyPDFLoader\n",
    "from langchain.text_splitter import RecursiveCharacterTextSplitter\n",
    "from langchain_huggingface.embeddings import HuggingFaceEmbeddings\n",
    "from langchain_chroma import Chroma\n"
   ]
  },
  {
   "cell_type": "code",
   "execution_count": 11,
   "id": "d7cda5de",
   "metadata": {},
   "outputs": [
    {
     "name": "stderr",
     "output_type": "stream",
     "text": [
      "d:\\Langchain\\venv\\lib\\site-packages\\tqdm\\auto.py:21: TqdmWarning: IProgress not found. Please update jupyter and ipywidgets. See https://ipywidgets.readthedocs.io/en/stable/user_install.html\n",
      "  from .autonotebook import tqdm as notebook_tqdm\n"
     ]
    }
   ],
   "source": [
    "loader = PyPDFLoader(file_path=f\"../Resources/CSS Notes.pdf\")\n",
    "docs = loader.load()\n",
    "splitter = RecursiveCharacterTextSplitter(chunk_size= 500, chunk_overlap=100)\n",
    "splitted_docs = splitter.split_documents(docs)\n",
    "embeddings = HuggingFaceEmbeddings(model=\"all-MiniLM-L6-v2\")"
   ]
  },
  {
   "cell_type": "code",
   "execution_count": 12,
   "id": "4767e66a",
   "metadata": {},
   "outputs": [],
   "source": [
    "db = Chroma.from_documents(embedding=embeddings,documents=splitted_docs)"
   ]
  },
  {
   "cell_type": "code",
   "execution_count": 13,
   "id": "b99bb3b3",
   "metadata": {},
   "outputs": [],
   "source": [
    "#similarity Search:\n",
    "query=\"CSS is used for styling\""
   ]
  },
  {
   "cell_type": "code",
   "execution_count": 18,
   "id": "984384ae",
   "metadata": {},
   "outputs": [],
   "source": [
    "res=db.similarity_search(query=query)"
   ]
  },
  {
   "cell_type": "code",
   "execution_count": 20,
   "id": "70c6c781",
   "metadata": {},
   "outputs": [
    {
     "data": {
      "text/plain": [
       "\"CSS\\nCascading Style Sheet\\nmakeupnot a programming language, but a stying languageBut for styling there should be some content, and that's whywe studied html before cssgo to websites & remove css\\nA P N A \\nC O L L E G E \\nIt is a language that is used to describe the style of a document.\""
      ]
     },
     "execution_count": 20,
     "metadata": {},
     "output_type": "execute_result"
    }
   ],
   "source": [
    "res[0].page_content"
   ]
  },
  {
   "cell_type": "code",
   "execution_count": 21,
   "id": "ecdcc132",
   "metadata": {},
   "outputs": [
    {
     "data": {
      "text/plain": [
       "[Document(id='d4e16b04-b11b-4489-b95b-dac49bb447a2', metadata={'keywords': 'DAFk338rPhk,BAEHDsZUYOI', 'moddate': '2023-06-04T16:00:50+00:00', 'creator': 'Canva', 'title': 'CSS Notes', 'source': '../Resources/CSS Notes.pdf', 'page': 2, 'author': 'Rahul Neha', 'producer': 'Canva', 'creationdate': '2023-06-04T16:00:52+00:00', 'page_label': '3', 'total_pages': 72}, page_content=\"CSS\\nCascading Style Sheet\\nmakeupnot a programming language, but a stying languageBut for styling there should be some content, and that's whywe studied html before cssgo to websites & remove css\\nA P N A \\nC O L L E G E \\nIt is a language that is used to describe the style of a document.\"),\n",
       " Document(id='0c08b89c-4f9f-45d2-b9ba-dda598d83373', metadata={'author': 'Rahul Neha', 'source': '../Resources/CSS Notes.pdf', 'title': 'CSS Notes', 'creator': 'Canva', 'total_pages': 72, 'keywords': 'DAFk338rPhk,BAEHDsZUYOI', 'moddate': '2023-06-04T16:00:50+00:00', 'page': 50, 'creationdate': '2023-06-04T16:00:52+00:00', 'page_label': '51', 'producer': 'Canva'}, page_content='Level 4\\nBasics of CSS\\nA P N A \\nC O L L E G E'),\n",
       " Document(id='5489d896-0e57-4c92-a93c-b13977c753a7', metadata={'creationdate': '2023-06-04T16:00:52+00:00', 'moddate': '2023-06-04T16:00:50+00:00', 'producer': 'Canva', 'keywords': 'DAFk338rPhk,BAEHDsZUYOI', 'page': 1, 'creator': 'Canva', 'title': 'CSS Notes', 'source': '../Resources/CSS Notes.pdf', 'total_pages': 72, 'page_label': '2', 'author': 'Rahul Neha'}, page_content='Level 1\\nBasics of CSS\\nA P N A \\nC O L L E G E'),\n",
       " Document(id='c4d331de-932a-4600-b2a0-3c601002288d', metadata={'total_pages': 72, 'title': 'CSS Notes', 'author': 'Rahul Neha', 'creator': 'Canva', 'moddate': '2023-06-04T16:00:50+00:00', 'creationdate': '2023-06-04T16:00:52+00:00', 'source': '../Resources/CSS Notes.pdf', 'keywords': 'DAFk338rPhk,BAEHDsZUYOI', 'producer': 'Canva', 'page': 0, 'page_label': '1'}, page_content='A P N A \\nC O L L E G E \\nHTML\\nStructure/layout\\nCSS JS\\nStyle Logic')]"
      ]
     },
     "execution_count": 21,
     "metadata": {},
     "output_type": "execute_result"
    }
   ],
   "source": [
    "retriever = db.as_retriever()\n",
    "retriever.invoke(\"What is CSS\")"
   ]
  },
  {
   "cell_type": "code",
   "execution_count": null,
   "id": "516e6f17",
   "metadata": {},
   "outputs": [],
   "source": []
  }
 ],
 "metadata": {
  "kernelspec": {
   "display_name": "Python 3",
   "language": "python",
   "name": "python3"
  },
  "language_info": {
   "codemirror_mode": {
    "name": "ipython",
    "version": 3
   },
   "file_extension": ".py",
   "mimetype": "text/x-python",
   "name": "python",
   "nbconvert_exporter": "python",
   "pygments_lexer": "ipython3",
   "version": "3.10.15"
  }
 },
 "nbformat": 4,
 "nbformat_minor": 5
}
