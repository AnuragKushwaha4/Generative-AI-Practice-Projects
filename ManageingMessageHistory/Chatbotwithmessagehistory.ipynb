{
 "cells": [
  {
   "cell_type": "code",
   "execution_count": 40,
   "id": "373eb7f5",
   "metadata": {},
   "outputs": [
    {
     "data": {
      "text/plain": [
       "True"
      ]
     },
     "execution_count": 40,
     "metadata": {},
     "output_type": "execute_result"
    }
   ],
   "source": [
    "import os\n",
    "from dotenv import load_dotenv\n",
    "load_dotenv()"
   ]
  },
  {
   "cell_type": "code",
   "execution_count": 41,
   "id": "ebd23207",
   "metadata": {},
   "outputs": [],
   "source": [
    "os.environ[\"GROQ_API_KEY\"]=os.getenv(\"GROQ_API_KEY\")"
   ]
  },
  {
   "cell_type": "code",
   "execution_count": 42,
   "id": "b56ee503",
   "metadata": {},
   "outputs": [],
   "source": [
    "from langchain_groq import ChatGroq\n",
    "from langchain_core.prompts import ChatPromptTemplate,MessagesPlaceholder\n",
    "from langchain_core.output_parsers import StrOutputParser"
   ]
  },
  {
   "cell_type": "code",
   "execution_count": 43,
   "id": "b60e08da",
   "metadata": {},
   "outputs": [],
   "source": [
    "from langchain_core.chat_history import BaseChatMessageHistory\n",
    "from langchain_core.runnables.history import RunnableWithMessageHistory\n",
    "from langchain_community.chat_message_histories import ChatMessageHistory\n",
    "from langchain_core.messages import HumanMessage"
   ]
  },
  {
   "cell_type": "code",
   "execution_count": 44,
   "id": "3e1e35ed",
   "metadata": {},
   "outputs": [],
   "source": [
    "llm = ChatGroq(model=\"llama-3.3-70b-versatile\")"
   ]
  },
  {
   "cell_type": "code",
   "execution_count": 45,
   "id": "c3c850d4",
   "metadata": {},
   "outputs": [],
   "source": [
    "prompts =ChatPromptTemplate.from_messages(\n",
    "    [\n",
    "        (\"system\",\"You are usefull AI assistant answer users query to the best.\"),\n",
    "        MessagesPlaceholder(\"chat_history\"),\n",
    "        (\"user\",\"{input_text}\")\n",
    "        \n",
    "    ]\n",
    ")\n"
   ]
  },
  {
   "cell_type": "code",
   "execution_count": 46,
   "id": "6bb89c10",
   "metadata": {},
   "outputs": [],
   "source": [
    "stores={}"
   ]
  },
  {
   "cell_type": "code",
   "execution_count": 47,
   "id": "64bd8807",
   "metadata": {},
   "outputs": [],
   "source": [
    "def get_session_history(session_id:str)->BaseChatMessageHistory:\n",
    "    if session_id not in stores:\n",
    "        stores[session_id]=ChatMessageHistory()\n",
    "    return stores[session_id]"
   ]
  },
  {
   "cell_type": "code",
   "execution_count": 48,
   "id": "b3f065fc",
   "metadata": {},
   "outputs": [],
   "source": [
    "outputParser = StrOutputParser()"
   ]
  },
  {
   "cell_type": "code",
   "execution_count": 49,
   "id": "55a67052",
   "metadata": {},
   "outputs": [],
   "source": [
    "normalChain = prompts|llm|outputParser"
   ]
  },
  {
   "cell_type": "code",
   "execution_count": 50,
   "id": "db367882",
   "metadata": {},
   "outputs": [],
   "source": [
    "chain_with_message_history = RunnableWithMessageHistory(\n",
    "    normalChain,get_session_history=get_session_history,\n",
    "    input_messages_key=\"input_text\",\n",
    "    history_messages_key=\"chat_history\",\n",
    ")"
   ]
  },
  {
   "cell_type": "code",
   "execution_count": 51,
   "id": "ddb114ee",
   "metadata": {},
   "outputs": [],
   "source": [
    "res = chain_with_message_history.invoke(\n",
    "    {\"input_text\":\"What is AI and how it impact IT industry\"},\n",
    "    config={\"configurable\":{\"session_id\":\"chat1\"}}\n",
    ")"
   ]
  },
  {
   "cell_type": "code",
   "execution_count": 52,
   "id": "089d9a1b",
   "metadata": {},
   "outputs": [
    {
     "data": {
      "text/plain": [
       "'**What is AI?**\\n\\nArtificial Intelligence (AI) refers to the development of computer systems that can perform tasks that typically require human intelligence, such as:\\n\\n1. Learning: AI systems can learn from data and improve their performance over time.\\n2. Problem-solving: AI systems can analyze problems and find solutions.\\n3. Reasoning: AI systems can draw inferences and make decisions based on available data.\\n4. Perception: AI systems can interpret and understand data from sensors, such as images, speech, and text.\\n\\nAI involves a range of techniques, including machine learning, natural language processing, computer vision, and robotics.\\n\\n**Impact of AI on the IT Industry**\\n\\nThe impact of AI on the IT industry has been significant, and it continues to grow. Here are some ways AI is changing the IT industry:\\n\\n1. **Automation**: AI is automating many routine and repetitive tasks, freeing up IT professionals to focus on more complex and strategic work.\\n2. **Efficiency**: AI is improving the efficiency of IT operations, such as network management, cybersecurity, and data analytics.\\n3. **Innovation**: AI is driving innovation in the IT industry, enabling the development of new products and services, such as chatbots, virtual assistants, and predictive maintenance.\\n4. **Job Creation**: AI is creating new job opportunities in areas such as AI development, deployment, and maintenance.\\n5. **Cybersecurity**: AI is being used to improve cybersecurity, detecting and preventing threats in real-time.\\n6. **Data Analytics**: AI is being used to analyze large datasets, providing insights and patterns that can inform business decisions.\\n7. **Cloud Computing**: AI is being used to optimize cloud computing resources, improving scalability and reducing costs.\\n\\n**Key Areas of AI Adoption in IT**\\n\\n1. **Help Desk and Support**: AI-powered chatbots and virtual assistants are being used to provide 24/7 support to customers and employees.\\n2. **Network Management**: AI is being used to monitor and manage network traffic, detecting and preventing issues before they occur.\\n3. **Cybersecurity**: AI is being used to detect and prevent cyber threats, such as malware, phishing, and ransomware.\\n4. **Data Analytics**: AI is being used to analyze large datasets, providing insights and patterns that can inform business decisions.\\n5. **Cloud Management**: AI is being used to optimize cloud computing resources, improving scalability and reducing costs.\\n\\n**Benefits of AI in IT**\\n\\n1. **Improved Efficiency**: AI automates routine tasks, freeing up IT professionals to focus on more complex work.\\n2. **Enhanced Customer Experience**: AI-powered chatbots and virtual assistants provide 24/7 support to customers and employees.\\n3. **Increased Innovation**: AI drives innovation in the IT industry, enabling the development of new products and services.\\n4. **Better Decision-Making**: AI provides insights and patterns from large datasets, informing business decisions.\\n5. **Improved Cybersecurity**: AI detects and prevents cyber threats, protecting IT systems and data.\\n\\n**Challenges of AI in IT**\\n\\n1. **Job Displacement**: AI may displace some IT jobs, particularly those that involve routine and repetitive tasks.\\n2. **Data Quality**: AI requires high-quality data to function effectively, which can be a challenge in some IT environments.\\n3. **Explainability**: AI decision-making processes can be difficult to understand, which can create challenges for IT professionals.\\n4. **Security**: AI systems can be vulnerable to cyber threats, which can create security risks for IT systems and data.\\n5. **Regulation**: AI is subject to various regulations, such as data protection and privacy laws, which can create challenges for IT professionals.\\n\\nIn conclusion, AI is transforming the IT industry, bringing numerous benefits, such as improved efficiency, enhanced customer experience, and increased innovation. However, there are also challenges to be addressed, such as job displacement, data quality, and security. As AI continues to evolve, it is essential for IT professionals to develop the skills and knowledge needed to work effectively with AI systems.'"
      ]
     },
     "execution_count": 52,
     "metadata": {},
     "output_type": "execute_result"
    }
   ],
   "source": [
    "res "
   ]
  },
  {
   "cell_type": "code",
   "execution_count": 53,
   "id": "25197147",
   "metadata": {},
   "outputs": [],
   "source": [
    "res2 =chain_with_message_history.invoke(\n",
    "    {\"input_text\":\"what accoding to you happen specifically in india\"},\n",
    "    config={\"configurable\":{\"session_id\":\"chat1\"}}\n",
    ")"
   ]
  },
  {
   "cell_type": "code",
   "execution_count": 54,
   "id": "34deea38",
   "metadata": {},
   "outputs": [
    {
     "data": {
      "text/plain": [
       "\"**Impact of AI on the IT Industry in India**\\n\\nIndia has been at the forefront of the IT industry for several decades, and the adoption of AI is expected to have a significant impact on the country's IT sector. Here are some specific developments and trends in India:\\n\\n1. **Growing Demand for AI Talent**: The demand for AI and machine learning professionals is increasing rapidly in India, with companies such as Google, Microsoft, and IBM setting up AI research centers in the country.\\n2. **AI Adoption in IT Services**: Indian IT services companies, such as TCS, Infosys, and Wipro, are adopting AI to improve the efficiency and effectiveness of their services, such as customer support, data analytics, and cybersecurity.\\n3. **Startups and Innovation**: India has a thriving startup ecosystem, with many AI-focused startups emerging in areas such as healthcare, finance, and education. These startups are leveraging AI to develop innovative solutions and products.\\n4. **Government Initiatives**: The Indian government has launched several initiatives to promote AI adoption, including the National Artificial Intelligence Mission (NAIM) and the establishment of the Centre for Artificial Intelligence and Robotics (CAIR).\\n5. **Education and Research**: Indian universities and research institutions are investing heavily in AI research and education, with many institutions offering courses and programs in AI, machine learning, and data science.\\n\\n**Key Sectors Where AI is Being Adopted in India**\\n\\n1. **IT Services**: AI is being used to improve the efficiency and effectiveness of IT services, such as customer support, data analytics, and cybersecurity.\\n2. **Healthcare**: AI is being used in healthcare to improve patient outcomes, streamline clinical workflows, and develop personalized medicine.\\n3. **Finance**: AI is being used in finance to improve risk management, detect fraud, and develop personalized financial services.\\n4. **Education**: AI is being used in education to improve student outcomes, develop personalized learning plans, and enhance teacher effectiveness.\\n5. **Manufacturing**: AI is being used in manufacturing to improve supply chain management, predict maintenance, and optimize production processes.\\n\\n**Benefits of AI in India**\\n\\n1. **Economic Growth**: AI is expected to contribute significantly to India's economic growth, with estimates suggesting that AI could add up to 1.3% to India's GDP by 2025.\\n2. **Job Creation**: AI is expected to create new job opportunities in areas such as AI development, deployment, and maintenance.\\n3. **Improved Efficiency**: AI is expected to improve the efficiency and effectiveness of various sectors, such as healthcare, finance, and education.\\n4. **Innovation**: AI is expected to drive innovation in India, enabling the development of new products and services.\\n5. **Competitiveness**: AI is expected to enhance India's competitiveness in the global market, enabling Indian companies to compete with international players.\\n\\n**Challenges of AI in India**\\n\\n1. **Skill Gap**: India faces a significant skill gap in AI, with a shortage of professionals with expertise in AI and machine learning.\\n2. **Data Quality**: India's data quality is often poor, which can create challenges for AI adoption.\\n3. **Infrastructure**: India's infrastructure, such as data storage and computing power, may not be adequate to support large-scale AI adoption.\\n4. **Regulation**: India lacks clear regulations and guidelines for AI adoption, which can create uncertainty and challenges for companies.\\n5. **Digital Divide**: India's digital divide, with many citizens lacking access to digital technologies, may limit the reach and impact of AI.\\n\\n**Future Outlook**\\n\\nThe future of AI in India looks promising, with the country expected to become a major hub for AI development and adoption. To realize this potential, India will need to address the challenges mentioned above, such as the skill gap, data quality, and infrastructure. The government, industry, and academia will need to work together to create a supportive ecosystem for AI adoption and innovation.\\n\\n**Key Statistics**\\n\\n1. **AI Market Size**: The AI market in India is expected to reach $7.8 billion by 2025, growing at a CAGR of 33.8%.\\n2. **AI Adoption**: 71% of Indian organizations are planning to adopt AI in the next 2 years.\\n3. **AI Talent**: India has a shortage of 1.4 million AI professionals, with the demand expected to increase by 60% in the next 2 years.\\n4. **AI Funding**: Indian startups have received over $1.5 billion in funding for AI-related projects in the last 2 years.\\n5. **AI Research**: India has over 100 research institutions and universities working on AI-related projects, with a focus on areas such as healthcare, finance, and education.\""
      ]
     },
     "execution_count": 54,
     "metadata": {},
     "output_type": "execute_result"
    }
   ],
   "source": [
    "res2"
   ]
  },
  {
   "cell_type": "code",
   "execution_count": null,
   "id": "eb82c8ae",
   "metadata": {},
   "outputs": [],
   "source": []
  }
 ],
 "metadata": {
  "kernelspec": {
   "display_name": "Python 3",
   "language": "python",
   "name": "python3"
  },
  "language_info": {
   "codemirror_mode": {
    "name": "ipython",
    "version": 3
   },
   "file_extension": ".py",
   "mimetype": "text/x-python",
   "name": "python",
   "nbconvert_exporter": "python",
   "pygments_lexer": "ipython3",
   "version": "3.10.15"
  }
 },
 "nbformat": 4,
 "nbformat_minor": 5
}
